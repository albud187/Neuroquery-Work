{
 "cells": [
  {
   "cell_type": "code",
   "execution_count": 1,
   "metadata": {},
   "outputs": [],
   "source": [
    "#check to make sure articles are actually in the corpus master list\n",
    "import pandas as pd"
   ]
  },
  {
   "cell_type": "code",
   "execution_count": 2,
   "metadata": {},
   "outputs": [],
   "source": [
    "conscioussness_data = pd.read_csv(\"model_data/Sheet 2-Articles for Consciousness (Wdoi).csv\")\n",
    "connectivity_data = pd.read_csv(\"model_data/Sheet 3-Articles for Functional Connectivity (Wdoi).csv\")\n",
    "maybe_data = pd.read_csv(\"model_data/Sheet 4-The Maybe List (Wdoi).csv\")\n",
    "corpus_masterdata = pd.read_csv(\"corpus_metadata.csv\")"
   ]
  },
  {
   "cell_type": "code",
   "execution_count": 3,
   "metadata": {},
   "outputs": [
    {
     "data": {
      "text/html": [
       "<div>\n",
       "<style scoped>\n",
       "    .dataframe tbody tr th:only-of-type {\n",
       "        vertical-align: middle;\n",
       "    }\n",
       "\n",
       "    .dataframe tbody tr th {\n",
       "        vertical-align: top;\n",
       "    }\n",
       "\n",
       "    .dataframe thead th {\n",
       "        text-align: right;\n",
       "    }\n",
       "</style>\n",
       "<table border=\"1\" class=\"dataframe\">\n",
       "  <thead>\n",
       "    <tr style=\"text-align: right;\">\n",
       "      <th></th>\n",
       "      <th>pmid</th>\n",
       "      <th>title</th>\n",
       "      <th>pubmed_url</th>\n",
       "    </tr>\n",
       "  </thead>\n",
       "  <tbody>\n",
       "    <tr>\n",
       "      <th>0</th>\n",
       "      <td>9405692</td>\n",
       "      <td>Role of left inferior prefrontal cortex in ret...</td>\n",
       "      <td>https://www.ncbi.nlm.nih.gov/pubmed/9405692</td>\n",
       "    </tr>\n",
       "    <tr>\n",
       "      <th>1</th>\n",
       "      <td>9990082</td>\n",
       "      <td>Covariation of activity in visual and prefront...</td>\n",
       "      <td>https://www.ncbi.nlm.nih.gov/pubmed/9990082</td>\n",
       "    </tr>\n",
       "    <tr>\n",
       "      <th>2</th>\n",
       "      <td>10202567</td>\n",
       "      <td>Neural Correlates of Exposure to Traumatic Pic...</td>\n",
       "      <td>https://www.ncbi.nlm.nih.gov/pubmed/10202567</td>\n",
       "    </tr>\n",
       "    <tr>\n",
       "      <th>3</th>\n",
       "      <td>10439584</td>\n",
       "      <td>Neuroanatomic substrates of semantic memory im...</td>\n",
       "      <td>https://www.ncbi.nlm.nih.gov/pubmed/10439584</td>\n",
       "    </tr>\n",
       "    <tr>\n",
       "      <th>4</th>\n",
       "      <td>10523407</td>\n",
       "      <td>Functional MRI localisation of central nervous...</td>\n",
       "      <td>https://www.ncbi.nlm.nih.gov/pubmed/10523407</td>\n",
       "    </tr>\n",
       "    <tr>\n",
       "      <th>...</th>\n",
       "      <td>...</td>\n",
       "      <td>...</td>\n",
       "      <td>...</td>\n",
       "    </tr>\n",
       "    <tr>\n",
       "      <th>13454</th>\n",
       "      <td>28919871</td>\n",
       "      <td>Investigating the Neural Correlates of Emotion...</td>\n",
       "      <td>https://www.ncbi.nlm.nih.gov/pubmed/28919871</td>\n",
       "    </tr>\n",
       "    <tr>\n",
       "      <th>13455</th>\n",
       "      <td>28924215</td>\n",
       "      <td>Bilingual Cortical Control of Between- and Wit...</td>\n",
       "      <td>https://www.ncbi.nlm.nih.gov/pubmed/28924215</td>\n",
       "    </tr>\n",
       "    <tr>\n",
       "      <th>13456</th>\n",
       "      <td>28928643</td>\n",
       "      <td>How Situational Context Impacts Empathic Respo...</td>\n",
       "      <td>https://www.ncbi.nlm.nih.gov/pubmed/28928643</td>\n",
       "    </tr>\n",
       "    <tr>\n",
       "      <th>13457</th>\n",
       "      <td>28928648</td>\n",
       "      <td>A Single Session of rTMS Enhances Small-Worldn...</td>\n",
       "      <td>https://www.ncbi.nlm.nih.gov/pubmed/28928648</td>\n",
       "    </tr>\n",
       "    <tr>\n",
       "      <th>13458</th>\n",
       "      <td>28928708</td>\n",
       "      <td>Neural Patterns of Reorganization after Intens...</td>\n",
       "      <td>https://www.ncbi.nlm.nih.gov/pubmed/28928708</td>\n",
       "    </tr>\n",
       "  </tbody>\n",
       "</table>\n",
       "<p>13459 rows × 3 columns</p>\n",
       "</div>"
      ],
      "text/plain": [
       "           pmid                                              title  \\\n",
       "0       9405692  Role of left inferior prefrontal cortex in ret...   \n",
       "1       9990082  Covariation of activity in visual and prefront...   \n",
       "2      10202567  Neural Correlates of Exposure to Traumatic Pic...   \n",
       "3      10439584  Neuroanatomic substrates of semantic memory im...   \n",
       "4      10523407  Functional MRI localisation of central nervous...   \n",
       "...         ...                                                ...   \n",
       "13454  28919871  Investigating the Neural Correlates of Emotion...   \n",
       "13455  28924215  Bilingual Cortical Control of Between- and Wit...   \n",
       "13456  28928643  How Situational Context Impacts Empathic Respo...   \n",
       "13457  28928648  A Single Session of rTMS Enhances Small-Worldn...   \n",
       "13458  28928708  Neural Patterns of Reorganization after Intens...   \n",
       "\n",
       "                                         pubmed_url  \n",
       "0       https://www.ncbi.nlm.nih.gov/pubmed/9405692  \n",
       "1       https://www.ncbi.nlm.nih.gov/pubmed/9990082  \n",
       "2      https://www.ncbi.nlm.nih.gov/pubmed/10202567  \n",
       "3      https://www.ncbi.nlm.nih.gov/pubmed/10439584  \n",
       "4      https://www.ncbi.nlm.nih.gov/pubmed/10523407  \n",
       "...                                             ...  \n",
       "13454  https://www.ncbi.nlm.nih.gov/pubmed/28919871  \n",
       "13455  https://www.ncbi.nlm.nih.gov/pubmed/28924215  \n",
       "13456  https://www.ncbi.nlm.nih.gov/pubmed/28928643  \n",
       "13457  https://www.ncbi.nlm.nih.gov/pubmed/28928648  \n",
       "13458  https://www.ncbi.nlm.nih.gov/pubmed/28928708  \n",
       "\n",
       "[13459 rows x 3 columns]"
      ]
     },
     "execution_count": 3,
     "metadata": {},
     "output_type": "execute_result"
    }
   ],
   "source": [
    "corpus_masterdata"
   ]
  },
  {
   "cell_type": "code",
   "execution_count": 7,
   "metadata": {},
   "outputs": [],
   "source": [
    "all_pmids = list(corpus_masterdata['pmid'])\n",
    "conc_pmids = list(conscioussness_data['pmid'])"
   ]
  },
  {
   "cell_type": "code",
   "execution_count": 17,
   "metadata": {},
   "outputs": [],
   "source": [
    "i = 0\n",
    "for pmid in conc_pmids:\n",
    "    if pmid in all_pmids:\n",
    "        i = i+1"
   ]
  },
  {
   "cell_type": "code",
   "execution_count": 18,
   "metadata": {},
   "outputs": [
    {
     "data": {
      "text/plain": [
       "51"
      ]
     },
     "execution_count": 18,
     "metadata": {},
     "output_type": "execute_result"
    }
   ],
   "source": [
    "i"
   ]
  },
  {
   "cell_type": "code",
   "execution_count": 11,
   "metadata": {},
   "outputs": [
    {
     "data": {
      "text/plain": [
       "51"
      ]
     },
     "execution_count": 11,
     "metadata": {},
     "output_type": "execute_result"
    }
   ],
   "source": [
    "len(conc_pmids)"
   ]
  },
  {
   "cell_type": "code",
   "execution_count": 15,
   "metadata": {},
   "outputs": [
    {
     "name": "stdout",
     "output_type": "stream",
     "text": [
      "9\n"
     ]
    }
   ],
   "source": [
    "L1=[0,1,2,3,4,5]\n",
    "L2=[0,1,2,3,9]\n",
    "\n",
    "for num in L2:\n",
    "    if num not in L1:\n",
    "        print(num)"
   ]
  },
  {
   "cell_type": "code",
   "execution_count": null,
   "metadata": {},
   "outputs": [],
   "source": []
  }
 ],
 "metadata": {
  "kernelspec": {
   "display_name": "Python 3",
   "language": "python",
   "name": "python3"
  },
  "language_info": {
   "codemirror_mode": {
    "name": "ipython",
    "version": 3
   },
   "file_extension": ".py",
   "mimetype": "text/x-python",
   "name": "python",
   "nbconvert_exporter": "python",
   "pygments_lexer": "ipython3",
   "version": "3.8.3"
  }
 },
 "nbformat": 4,
 "nbformat_minor": 4
}
