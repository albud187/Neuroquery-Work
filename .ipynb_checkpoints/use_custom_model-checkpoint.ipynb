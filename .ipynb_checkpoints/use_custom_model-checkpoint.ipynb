{
 "cells": [
  {
   "cell_type": "code",
   "execution_count": 1,
   "metadata": {},
   "outputs": [
    {
     "name": "stderr",
     "output_type": "stream",
     "text": [
      "C:\\Users\\alfab\\anaconda3\\lib\\site-packages\\nilearn\\datasets\\__init__.py:93: FutureWarning: Fetchers from the nilearn.datasets module will be updated in version 0.9 to return python strings instead of bytes and Pandas dataframes instead of Numpy arrays.\n",
      "  warn(\"Fetchers from the nilearn.datasets module will be \"\n"
     ]
    }
   ],
   "source": [
    "import pathlib\n",
    "import os\n",
    "from scipy import sparse\n",
    "import pandas as pd\n",
    "from joblib import Memory\n",
    "from nilearn import plotting\n",
    "from datetime import date\n",
    "from neuroquery import datasets\n",
    "from neuroquery.img_utils import coordinates_to_maps\n",
    "from neuroquery.smoothed_regression import SmoothedRegression\n",
    "from neuroquery.tokenization import TextVectorizer\n",
    "from neuroquery.encoding import NeuroQueryModel"
   ]
  },
  {
   "cell_type": "code",
   "execution_count": 9,
   "metadata": {},
   "outputs": [],
   "source": [
    "from neuroquery import fetch_neuroquery_model\n",
    "connectivity_model = \"connectivity_data_model\"\n",
    "conscioussness_model = \"conscioussness_data_model\"\n",
    "\n"
   ]
  },
  {
   "cell_type": "code",
   "execution_count": 10,
   "metadata": {},
   "outputs": [
    {
     "name": "stdout",
     "output_type": "stream",
     "text": [
      "Encoding \"autism spectrum disorder\"\n"
     ]
    },
    {
     "name": "stderr",
     "output_type": "stream",
     "text": [
      "C:\\Users\\alfab\\anaconda3\\lib\\site-packages\\nilearn\\plotting\\html_stat_map.py:217: FutureWarning: Default resolution of the MNI template will change from 2mm to 1mm in version 0.10.0\n",
      "  bg_img = load_mni152_template()\n"
     ]
    },
    {
     "name": "stdout",
     "output_type": "stream",
     "text": [
      "Similar words:\n",
      "                 similarity  weight_in_brain_map  weight_in_query  n_documents\n",
      "autism             0.032980             0.018985              0.0           66\n",
      "default network    0.006376             0.010634              0.0            7\n",
      "default            0.006377             0.003904              0.0           33\n",
      "youth              0.004457             0.002400              0.0            5\n",
      "network            0.003833             0.001512              0.0           62\n",
      "\n",
      "Similar documents:\n",
      "      index                                              title  \\\n",
      "0  22791801  Fractionation of social brain circuits in auti...   \n",
      "1  20381584  Regional Homogeneity of fMRI Time Series in Au...   \n",
      "2  25382787  Developmental Changes in Brain Function Underl...   \n",
      "3  21888982  Do distinct atypical cortical networks process...   \n",
      "4  20053346  Alterations in regional homogeneity of resting...   \n",
      "\n",
      "                                     pubmed_url  similarity  \n",
      "0  https://www.ncbi.nlm.nih.gov/pubmed/22791801    0.620835  \n",
      "1  https://www.ncbi.nlm.nih.gov/pubmed/20381584    0.515079  \n",
      "2  https://www.ncbi.nlm.nih.gov/pubmed/25382787    0.452159  \n",
      "3  https://www.ncbi.nlm.nih.gov/pubmed/21888982    0.451116  \n",
      "4  https://www.ncbi.nlm.nih.gov/pubmed/20053346    0.414908  \n"
     ]
    },
    {
     "ename": "NameError",
     "evalue": "name 'OUTPUT_DIRECTORY' is not defined",
     "output_type": "error",
     "traceback": [
      "\u001b[1;31m---------------------------------------------------------------------------\u001b[0m",
      "\u001b[1;31mNameError\u001b[0m                                 Traceback (most recent call last)",
      "\u001b[1;32m<ipython-input-10-7e3e311ea427>\u001b[0m in \u001b[0;36m<module>\u001b[1;34m\u001b[0m\n\u001b[0;32m     11\u001b[0m \u001b[0mprint\u001b[0m\u001b[1;33m(\u001b[0m\u001b[0mresult\u001b[0m\u001b[1;33m[\u001b[0m\u001b[1;34m\"similar_documents\"\u001b[0m\u001b[1;33m]\u001b[0m\u001b[1;33m.\u001b[0m\u001b[0mhead\u001b[0m\u001b[1;33m(\u001b[0m\u001b[1;33m)\u001b[0m\u001b[1;33m)\u001b[0m\u001b[1;33m\u001b[0m\u001b[1;33m\u001b[0m\u001b[0m\n\u001b[0;32m     12\u001b[0m \u001b[1;33m\u001b[0m\u001b[0m\n\u001b[1;32m---> 13\u001b[1;33m \u001b[0mprint\u001b[0m\u001b[1;33m(\u001b[0m\u001b[1;34m\"\\nmodel saved in {}\"\u001b[0m\u001b[1;33m.\u001b[0m\u001b[0mformat\u001b[0m\u001b[1;33m(\u001b[0m\u001b[0mOUTPUT_DIRECTORY\u001b[0m\u001b[1;33m)\u001b[0m\u001b[1;33m)\u001b[0m\u001b[1;33m\u001b[0m\u001b[1;33m\u001b[0m\u001b[0m\n\u001b[0m\u001b[0;32m     14\u001b[0m \u001b[1;33m\u001b[0m\u001b[0m\n\u001b[0;32m     15\u001b[0m \u001b[1;31m# Display in notebook\u001b[0m\u001b[1;33m\u001b[0m\u001b[1;33m\u001b[0m\u001b[1;33m\u001b[0m\u001b[0m\n",
      "\u001b[1;31mNameError\u001b[0m: name 'OUTPUT_DIRECTORY' is not defined"
     ]
    }
   ],
   "source": [
    "#change model to use\n",
    "NQ_MODEL_PATH = connectivity_model\n",
    "\n",
    "encoder = NeuroQueryModel.from_data_dir(NQ_MODEL_PATH)\n",
    "#change query to use\n",
    "query = \"autism spectrum disorder\"\n",
    "print('Encoding \"{}\"'.format(query))\n",
    "\n",
    "result = encoder(query)\n",
    "\n",
    "plotting.view_img(result[\"brain_map\"], threshold=3.0).open_in_browser()\n",
    "\n",
    "print(\"Similar words:\")\n",
    "print(result[\"similar_words\"].head())\n",
    "print(\"\\nSimilar documents:\")\n",
    "print(result[\"similar_documents\"].head())\n",
    "\n",
    "print(\"\\nmodel saved in {}\".format(OUTPUT_DIRECTORY))\n",
    "\n",
    "# Display in notebook\n",
    "plotting.view_img(result[\"brain_map\"], threshold=3.0)"
   ]
  },
  {
   "cell_type": "code",
   "execution_count": null,
   "metadata": {},
   "outputs": [],
   "source": []
  }
 ],
 "metadata": {
  "kernelspec": {
   "display_name": "Python 3",
   "language": "python",
   "name": "python3"
  },
  "language_info": {
   "codemirror_mode": {
    "name": "ipython",
    "version": 3
   },
   "file_extension": ".py",
   "mimetype": "text/x-python",
   "name": "python",
   "nbconvert_exporter": "python",
   "pygments_lexer": "ipython3",
   "version": "3.8.3"
  }
 },
 "nbformat": 4,
 "nbformat_minor": 4
}
