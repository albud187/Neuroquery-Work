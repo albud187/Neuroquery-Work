{
 "cells": [
  {
   "cell_type": "code",
   "execution_count": 1,
   "metadata": {},
   "outputs": [
    {
     "name": "stderr",
     "output_type": "stream",
     "text": [
      "C:\\Users\\alfab\\anaconda3\\lib\\site-packages\\nilearn\\datasets\\__init__.py:93: FutureWarning: Fetchers from the nilearn.datasets module will be updated in version 0.9 to return python strings instead of bytes and Pandas dataframes instead of Numpy arrays.\n",
      "  warn(\"Fetchers from the nilearn.datasets module will be \"\n"
     ]
    }
   ],
   "source": [
    "import pathlib\n",
    "import os\n",
    "from scipy import sparse\n",
    "import pandas as pd\n",
    "from joblib import Memory\n",
    "from nilearn import plotting\n",
    "from datetime import date\n",
    "from neuroquery import datasets\n",
    "from neuroquery.img_utils import coordinates_to_maps\n",
    "from neuroquery.smoothed_regression import SmoothedRegression\n",
    "from neuroquery.tokenization import TextVectorizer\n",
    "from neuroquery.encoding import NeuroQueryModel"
   ]
  },
  {
   "cell_type": "code",
   "execution_count": null,
   "metadata": {},
   "outputs": [],
   "source": [
    "from neuroquery import fetch_neuroquery_model\n",
    "#change model to use\n",
    "NQ_MODEL_PATH = connectivity_model\n",
    "\n",
    "encoder = NeuroQueryModel.from_data_dir(NQ_MODEL_PATH)\n",
    "#change query to use\n",
    "query = \"autism spectrum disorder\"\n",
    "print('Encoding \"{}\"'.format(query))\n",
    "\n",
    "result = encoder(query)\n",
    "\n",
    "plotting.view_img(result[\"brain_map\"], threshold=3.0).open_in_browser()\n",
    "\n",
    "print(\"Similar words:\")\n",
    "print(result[\"similar_words\"].head())\n",
    "print(\"\\nSimilar documents:\")\n",
    "print(result[\"similar_documents\"].head())\n",
    "\n",
    "\n",
    "# Display in notebook\n",
    "plotting.view_img(result[\"brain_map\"], threshold=3.0)"
   ]
  }
 ],
 "metadata": {
  "kernelspec": {
   "display_name": "Python 3",
   "language": "python",
   "name": "python3"
  },
  "language_info": {
   "codemirror_mode": {
    "name": "ipython",
    "version": 3
   },
   "file_extension": ".py",
   "mimetype": "text/x-python",
   "name": "python",
   "nbconvert_exporter": "python",
   "pygments_lexer": "ipython3",
   "version": "3.8.3"
  }
 },
 "nbformat": 4,
 "nbformat_minor": 4
}
