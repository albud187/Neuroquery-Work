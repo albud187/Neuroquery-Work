{
 "cells": [
  {
   "cell_type": "code",
   "execution_count": null,
   "metadata": {},
   "outputs": [],
   "source": [
    "#import packages and declare file paths\n",
    "\n",
    "import pathlib\n",
    "import os\n",
    "from scipy import sparse\n",
    "import pandas as pd\n",
    "from joblib import Memory\n",
    "from nilearn import plotting\n",
    "from datetime import date\n",
    "from neuroquery import datasets\n",
    "from neuroquery.img_utils import coordinates_to_maps\n",
    "from neuroquery.smoothed_regression import SmoothedRegression\n",
    "from neuroquery.tokenization import TextVectorizer\n",
    "from neuroquery.encoding import NeuroQueryModel\n",
    "\n",
    "conscioussness_data = pd.read_csv(\"model_data/Sheet 2-Articles for Consciousness (Wdoi).csv\")\n",
    "connectivity_data = pd.read_csv(\"model_data/Sheet 3-Articles for Functional Connectivity (Wdoi).csv\")\n",
    "maybe_data = pd.read_csv(\"model_data/Sheet 4-The Maybe List (Wdoi).csv\")"
   ]
  },
  {
   "cell_type": "code",
   "execution_count": 3,
   "metadata": {},
   "outputs": [],
   "source": [
    "CACHE_DIRECTORY = \"maybe_data_cache\"\n",
    "OUTPUT_DIRECTORY = \"maybe_data_model\"\n",
    "\n",
    "#CORPUS_FILE is the file path of the csv containing the studies you want in the neuroquery model\n",
    "#in this example the .csv file was saved in the same directory as this script\n",
    "#CORPUS_FILE = \"autism_data.csv\"\n",
    "\n",
    "#CORPUS_FILE_MASTER is the file path of the csv containing all 13459 studies used to create the original neuroquery model\n",
    "CORPUS_FILE_MASTER = \"corpus_metadata.csv\"\n",
    "\n",
    "data_dir = pathlib.Path(datasets.fetch_neuroquery_model())\n",
    "\n",
    "corpus_masterdata = pd.read_csv(CORPUS_FILE_MASTER)\n",
    "corpus_metadata = maybe_data\n",
    "# vectorizer = TextVectorizer.from_vocabulary_file(\n",
    "#     str(VOCAB_FILE)\n",
    "# )\n",
    "\n",
    "vectorizer = TextVectorizer.from_vocabulary_file(\n",
    "    str(data_dir / \"vocabulary.csv\")\n",
    ")\n",
    "\n",
    "# The TFIDF features stored with NeuroQuery data correspond to the terms in\n",
    "# `vocabulary.csv` and the studies in `corpus_metadata.csv`;\n",
    "# see `README.md` in the data directory for details\n",
    "tfidf = sparse.load_npz(str(data_dir / \"corpus_tfidf.npz\"))\n",
    "\n",
    "coordinates = pd.read_csv(datasets.fetch_peak_coordinates())"
   ]
  },
  {
   "cell_type": "code",
   "execution_count": null,
   "metadata": {},
   "outputs": [],
   "source": [
    "# We cache the `coordinates_to_maps` function with joblib to avoid recomputing\n",
    "# this if we train a new model.\n",
    "coord_to_maps = Memory(CACHE_DIRECTORY).cache(coordinates_to_maps)\n",
    "\n",
    "# You can set target_affine to a different value to increase image resolution\n",
    "# or reduce computation time. The model on neuroquery.org uses 4 mm\n",
    "# resolution i.e. target_affine=(4, 4, 4)\n",
    "# You can also adjust the smoothing by setting `fwhm` (Full Width at Half\n",
    "# maximum)\n",
    "brain_maps, masker = coord_to_maps(\n",
    "    coordinates, target_affine=(6, 6, 6), fwhm=9.0\n",
    ")\n",
    "brain_maps = brain_maps[(brain_maps.values != 0).any(axis=1)]"
   ]
  },
  {
   "cell_type": "code",
   "execution_count": 74,
   "metadata": {},
   "outputs": [],
   "source": [
    "#create boolean list kept_idx\n",
    "#each value in list indicates if the study at that index is kept or not\n",
    "#example: if kept_idx[0] == False, then it means the study at corpus_masterdata[0] is not kept\n",
    "#studies that are not kept will not be used to train the neuroquery model\n",
    "\n",
    "all_pmids_list = list(corpus_masterdata['pmid'])\n",
    "target_pmids_list = list(corpus_metadata['pmid'])\n",
    "kept_studies =[]\n",
    "for study in all_pmids_list:\n",
    "    if study not in target_pmids_list:\n",
    "        kept_studies.append(False)\n",
    "    else:\n",
    "        kept_studies.append(True)\n",
    "\n",
    "kept_idx = pd.Series(kept_studies) \n",
    "\n",
    "pmids = brain_maps.index.intersection(corpus_metadata[\"pmid\"])\n",
    "# kept_idx = corpus_metadata[\"pmid\"].isin(pmids)\n",
    "tfidf = tfidf.A[kept_idx, :]\n",
    "brain_maps = brain_maps.loc[pmids, :]"
   ]
  },
  {
   "cell_type": "code",
   "execution_count": null,
   "metadata": {},
   "outputs": [],
   "source": [
    "regressor = SmoothedRegression(alphas=[1.0, 10.0, 100.0])\n",
    "\n",
    "print(\n",
    "    \"Fitting smoothed regression model on {} samples...\".format(tfidf.shape[0])\n",
    ")\n",
    "\n",
    "regressor.fit(tfidf, brain_maps.values)\n",
    "corpus_metadata = corpus_masterdata.set_index(\"pmid\").loc[pmids, :].reset_index()\n",
    "encoder = NeuroQueryModel(\n",
    "    vectorizer,\n",
    "    regressor,\n",
    "    masker.mask_img_,\n",
    "    corpus_info={\n",
    "        \"tfidf\": sparse.csr_matrix(tfidf),\n",
    "        \"metadata\": corpus_metadata,\n",
    "    },\n",
    ")\n",
    "encoder.to_data_dir(OUTPUT_DIRECTORY)"
   ]
  },
  {
   "cell_type": "code",
   "execution_count": null,
   "metadata": {},
   "outputs": [],
   "source": [
    "query = \"autism spectrum disorder\"\n",
    "print('Encoding \"{}\"'.format(query))\n",
    "\n",
    "result = encoder(query)\n",
    "\n",
    "plotting.view_img(result[\"brain_map\"], threshold=3.0).open_in_browser()\n",
    "\n",
    "print(\"Similar words:\")\n",
    "print(result[\"similar_words\"].head())\n",
    "print(\"\\nSimilar documents:\")\n",
    "print(result[\"similar_documents\"].head())\n",
    "\n",
    "print(\"\\nmodel saved in {}\".format(OUTPUT_DIRECTORY))\n",
    "\n",
    "# Display in notebook\n",
    "plotting.view_img(result[\"brain_map\"], threshold=3.0)"
   ]
  }
 ],
 "metadata": {
  "kernelspec": {
   "display_name": "Python 3",
   "language": "python",
   "name": "python3"
  },
  "language_info": {
   "codemirror_mode": {
    "name": "ipython",
    "version": 3
   },
   "file_extension": ".py",
   "mimetype": "text/x-python",
   "name": "python",
   "nbconvert_exporter": "python",
   "pygments_lexer": "ipython3",
   "version": "3.8.3"
  }
 },
 "nbformat": 4,
 "nbformat_minor": 4
}
