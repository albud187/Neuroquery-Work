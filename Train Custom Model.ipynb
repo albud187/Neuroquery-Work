{
 "cells": [
  {
   "cell_type": "code",
   "execution_count": 12,
   "metadata": {},
   "outputs": [],
   "source": [
    "import pathlib\n",
    "import os\n",
    "from scipy import sparse\n",
    "import pandas as pd\n",
    "from joblib import Memory\n",
    "from nilearn import plotting\n",
    "from datetime import date\n",
    "from neuroquery import datasets\n",
    "from neuroquery.img_utils import coordinates_to_maps\n",
    "from neuroquery.smoothed_regression import SmoothedRegression\n",
    "from neuroquery.tokenization import TextVectorizer\n",
    "from neuroquery.encoding import NeuroQueryModel"
   ]
  },
  {
   "cell_type": "code",
   "execution_count": 4,
   "metadata": {},
   "outputs": [],
   "source": [
    "conscioussness_data = pd.read_csv(\"model_data/Sheet 2-Articles for Consciousness (Wdoi).csv\")\n",
    "connectivity_data = pd.read_csv(\"model_data/Sheet 3-Articles for Functional Connectivity (Wdoi).csv\")\n",
    "maybe_data = pd.read_csv(\"model_data/Sheet 4-The Maybe List (Wdoi).csv\")"
   ]
  },
  {
   "cell_type": "code",
   "execution_count": 13,
   "metadata": {},
   "outputs": [],
   "source": [
    "CACHE_DIRECTORY = \"maybe_data_cache\"\n",
    "OUTPUT_DIRECTORY = \"maybe_data_model\"\n",
    "\n",
    "#CORPUS_FILE is the file path of the csv containing the studies you want in the neuroquery model\n",
    "#in this example the .csv file was saved in the same directory as this script\n",
    "#CORPUS_FILE = \"autism_data.csv\"\n",
    "\n",
    "#CORPUS_FILE_MASTER is the file path of the csv containing all 13459 studies used to create the original neuroquery model\n",
    "CORPUS_FILE_MASTER = \"corpus_metadata.csv\"\n",
    "\n",
    "data_dir = pathlib.Path(datasets.fetch_neuroquery_model())\n",
    "\n",
    "corpus_masterdata = pd.read_csv(CORPUS_FILE_MASTER)\n",
    "corpus_metadata = maybe_data\n",
    "# vectorizer = TextVectorizer.from_vocabulary_file(\n",
    "#     str(VOCAB_FILE)\n",
    "# )\n",
    "\n",
    "vectorizer = TextVectorizer.from_vocabulary_file(\n",
    "    str(data_dir / \"vocabulary.csv\")\n",
    ")\n",
    "\n",
    "# The TFIDF features stored with NeuroQuery data correspond to the terms in\n",
    "# `vocabulary.csv` and the studies in `corpus_metadata.csv`;\n",
    "# see `README.md` in the data directory for details\n",
    "tfidf = sparse.load_npz(str(data_dir / \"corpus_tfidf.npz\"))\n",
    "\n",
    "coordinates = pd.read_csv(datasets.fetch_peak_coordinates())"
   ]
  },
  {
   "cell_type": "code",
   "execution_count": 14,
   "metadata": {},
   "outputs": [
    {
     "name": "stdout",
     "output_type": "stream",
     "text": [
      "________________________________________________________________________________\n",
      "[Memory] Calling neuroquery.img_utils.coordinates_to_maps...\n",
      "coordinates_to_maps(            pmid table_id table_name     x     y     z\n",
      "0       26160289    t0010    Table 2  -3.0  42.0  12.0\n",
      "1       26160289    t0010    Table 2  -3.0 -57.0  23.0\n",
      "2       26160289    t0010    Table 2   4.0 -57.0  24.0\n",
      "3       26160289    t0010    Table 2  -9.0  54.0  27.0\n",
      "4       27535906       T1   Table 1.  15.0  36.0  22.0\n",
      "...          ...      ...        ...   ...   ...   ...\n",
      "469255  18559106       T2    Table 2 -26.0 -32.0  46.0\n",
      "469256  18559106       T3    Table 3 -22.0  16.0  21.0\n",
      "469257  18559106       T3    Table 3  24.0   9.0  23.0\n",
      "469258  18559106       T3    Table 3 -39.0 -48.0  27.0\n",
      "469259  18559106       T3    Table 3  38.0 -46.0  25.0\n",
      "\n",
      "[469260 rows x 6 columns], target_affine=(6, 6, 6), fwhm=9.0)\n",
      "Transforming 469260 coordinates for 13459 articles\n",
      "100.0% pmid:  28928708           \r"
     ]
    },
    {
     "name": "stderr",
     "output_type": "stream",
     "text": [
      "<ipython-input-14-872e8e814f34>:10: UserWarning: Persisting input arguments took 2.09s to run.\n",
      "If this happens often in your code, it can cause performance problems \n",
      "(results will be correct in all cases). \n",
      "The reason for this is probably some large input arguments for a wrapped\n",
      " function (e.g. large strings).\n",
      "THIS IS A JOBLIB ISSUE. If you can, kindly provide the joblib's team with an\n",
      " example so that they can fix the problem.\n",
      "  brain_maps, masker = coord_to_maps(\n"
     ]
    },
    {
     "name": "stdout",
     "output_type": "stream",
     "text": [
      "__________________________________________coordinates_to_maps - 3002.2s, 50.0min\n"
     ]
    }
   ],
   "source": [
    "# We cache the `coordinates_to_maps` function with joblib to avoid recomputing\n",
    "# this if we train a new model.\n",
    "coord_to_maps = Memory(CACHE_DIRECTORY).cache(coordinates_to_maps)\n",
    "\n",
    "# You can set target_affine to a different value to increase image resolution\n",
    "# or reduce computation time. The model on neuroquery.org uses 4 mm\n",
    "# resolution i.e. target_affine=(4, 4, 4)\n",
    "# You can also adjust the smoothing by setting `fwhm` (Full Width at Half\n",
    "# maximum)\n",
    "brain_maps, masker = coord_to_maps(\n",
    "    coordinates, target_affine=(6, 6, 6), fwhm=9.0\n",
    ")\n",
    "brain_maps = brain_maps[(brain_maps.values != 0).any(axis=1)]"
   ]
  },
  {
   "cell_type": "code",
   "execution_count": 74,
   "metadata": {},
   "outputs": [],
   "source": [
    "#create boolean list kept_idx\n",
    "#each value in list indicates if the study at that index is kept or not\n",
    "#example: if kept_idx[0] == False, then it means the study at corpus_masterdata[0] is not kept\n",
    "#studies that are not kept will not be used to train the neuroquery model\n",
    "\n",
    "all_pmids_list = list(corpus_masterdata['pmid'])\n",
    "target_pmids_list = list(corpus_metadata['pmid'])\n",
    "kept_studies =[]\n",
    "for study in all_pmids_list:\n",
    "    if study not in target_pmids_list:\n",
    "        kept_studies.append(False)\n",
    "    else:\n",
    "        kept_studies.append(True)\n",
    "\n",
    "kept_idx = pd.Series(kept_studies) \n",
    "\n",
    "pmids = brain_maps.index.intersection(corpus_metadata[\"pmid\"])\n",
    "# kept_idx = corpus_metadata[\"pmid\"].isin(pmids)\n",
    "tfidf = tfidf.A[kept_idx, :]\n",
    "brain_maps = brain_maps.loc[pmids, :]"
   ]
  },
  {
   "cell_type": "code",
   "execution_count": 79,
   "metadata": {},
   "outputs": [
    {
     "data": {
      "text/plain": [
       "(66, 6308)"
      ]
     },
     "execution_count": 79,
     "metadata": {},
     "output_type": "execute_result"
    }
   ],
   "source": [
    "tfidf.shape"
   ]
  },
  {
   "cell_type": "code",
   "execution_count": 80,
   "metadata": {},
   "outputs": [
    {
     "name": "stdout",
     "output_type": "stream",
     "text": [
      "Fitting smoothed regression model on 66 samples...\n",
      "keeping 169 features\n"
     ]
    },
    {
     "data": {
      "text/plain": [
       "SmoothedRegression(alphas=[1.0, 10.0, 100.0])"
      ]
     },
     "execution_count": 80,
     "metadata": {},
     "output_type": "execute_result"
    }
   ],
   "source": [
    "regressor = SmoothedRegression(alphas=[1.0, 10.0, 100.0])\n",
    "\n",
    "print(\n",
    "    \"Fitting smoothed regression model on {} samples...\".format(tfidf.shape[0])\n",
    ")\n",
    "regressor.fit(tfidf, brain_maps.values)"
   ]
  },
  {
   "cell_type": "code",
   "execution_count": 3,
   "metadata": {},
   "outputs": [
    {
     "ename": "NameError",
     "evalue": "name 'corpus_masterdata' is not defined",
     "output_type": "error",
     "traceback": [
      "\u001b[1;31m---------------------------------------------------------------------------\u001b[0m",
      "\u001b[1;31mNameError\u001b[0m                                 Traceback (most recent call last)",
      "\u001b[1;32m<ipython-input-3-237baf7a5209>\u001b[0m in \u001b[0;36m<module>\u001b[1;34m\u001b[0m\n\u001b[1;32m----> 1\u001b[1;33m \u001b[0mcorpus_metadata\u001b[0m \u001b[1;33m=\u001b[0m \u001b[0mcorpus_masterdata\u001b[0m\u001b[1;33m.\u001b[0m\u001b[0mset_index\u001b[0m\u001b[1;33m(\u001b[0m\u001b[1;34m\"pmid\"\u001b[0m\u001b[1;33m)\u001b[0m\u001b[1;33m.\u001b[0m\u001b[0mloc\u001b[0m\u001b[1;33m[\u001b[0m\u001b[0mpmids\u001b[0m\u001b[1;33m,\u001b[0m \u001b[1;33m:\u001b[0m\u001b[1;33m]\u001b[0m\u001b[1;33m.\u001b[0m\u001b[0mreset_index\u001b[0m\u001b[1;33m(\u001b[0m\u001b[1;33m)\u001b[0m\u001b[1;33m\u001b[0m\u001b[1;33m\u001b[0m\u001b[0m\n\u001b[0m\u001b[0;32m      2\u001b[0m encoder = NeuroQueryModel(\n\u001b[0;32m      3\u001b[0m     \u001b[0mvectorizer\u001b[0m\u001b[1;33m,\u001b[0m\u001b[1;33m\u001b[0m\u001b[1;33m\u001b[0m\u001b[0m\n\u001b[0;32m      4\u001b[0m     \u001b[0mregressor\u001b[0m\u001b[1;33m,\u001b[0m\u001b[1;33m\u001b[0m\u001b[1;33m\u001b[0m\u001b[0m\n\u001b[0;32m      5\u001b[0m     \u001b[0mmasker\u001b[0m\u001b[1;33m.\u001b[0m\u001b[0mmask_img_\u001b[0m\u001b[1;33m,\u001b[0m\u001b[1;33m\u001b[0m\u001b[1;33m\u001b[0m\u001b[0m\n",
      "\u001b[1;31mNameError\u001b[0m: name 'corpus_masterdata' is not defined"
     ]
    }
   ],
   "source": [
    "corpus_metadata = corpus_masterdata.set_index(\"pmid\").loc[pmids, :].reset_index()\n",
    "encoder = NeuroQueryModel(\n",
    "    vectorizer,\n",
    "    regressor,\n",
    "    masker.mask_img_,\n",
    "    corpus_info={\n",
    "        \"tfidf\": sparse.csr_matrix(tfidf),\n",
    "        \"metadata\": corpus_metadata,\n",
    "    },\n",
    ")\n",
    "encoder.to_data_dir(OUTPUT_DIRECTORY)"
   ]
  },
  {
   "cell_type": "code",
   "execution_count": 2,
   "metadata": {},
   "outputs": [
    {
     "name": "stdout",
     "output_type": "stream",
     "text": [
      "Encoding \"autism spectrum disorder\"\n"
     ]
    },
    {
     "ename": "NameError",
     "evalue": "name 'encoder' is not defined",
     "output_type": "error",
     "traceback": [
      "\u001b[1;31m---------------------------------------------------------------------------\u001b[0m",
      "\u001b[1;31mNameError\u001b[0m                                 Traceback (most recent call last)",
      "\u001b[1;32m<ipython-input-2-7e3e311ea427>\u001b[0m in \u001b[0;36m<module>\u001b[1;34m\u001b[0m\n\u001b[0;32m      2\u001b[0m \u001b[0mprint\u001b[0m\u001b[1;33m(\u001b[0m\u001b[1;34m'Encoding \"{}\"'\u001b[0m\u001b[1;33m.\u001b[0m\u001b[0mformat\u001b[0m\u001b[1;33m(\u001b[0m\u001b[0mquery\u001b[0m\u001b[1;33m)\u001b[0m\u001b[1;33m)\u001b[0m\u001b[1;33m\u001b[0m\u001b[1;33m\u001b[0m\u001b[0m\n\u001b[0;32m      3\u001b[0m \u001b[1;33m\u001b[0m\u001b[0m\n\u001b[1;32m----> 4\u001b[1;33m \u001b[0mresult\u001b[0m \u001b[1;33m=\u001b[0m \u001b[0mencoder\u001b[0m\u001b[1;33m(\u001b[0m\u001b[0mquery\u001b[0m\u001b[1;33m)\u001b[0m\u001b[1;33m\u001b[0m\u001b[1;33m\u001b[0m\u001b[0m\n\u001b[0m\u001b[0;32m      5\u001b[0m \u001b[1;33m\u001b[0m\u001b[0m\n\u001b[0;32m      6\u001b[0m \u001b[0mplotting\u001b[0m\u001b[1;33m.\u001b[0m\u001b[0mview_img\u001b[0m\u001b[1;33m(\u001b[0m\u001b[0mresult\u001b[0m\u001b[1;33m[\u001b[0m\u001b[1;34m\"brain_map\"\u001b[0m\u001b[1;33m]\u001b[0m\u001b[1;33m,\u001b[0m \u001b[0mthreshold\u001b[0m\u001b[1;33m=\u001b[0m\u001b[1;36m3.0\u001b[0m\u001b[1;33m)\u001b[0m\u001b[1;33m.\u001b[0m\u001b[0mopen_in_browser\u001b[0m\u001b[1;33m(\u001b[0m\u001b[1;33m)\u001b[0m\u001b[1;33m\u001b[0m\u001b[1;33m\u001b[0m\u001b[0m\n",
      "\u001b[1;31mNameError\u001b[0m: name 'encoder' is not defined"
     ]
    }
   ],
   "source": [
    "query = \"autism spectrum disorder\"\n",
    "print('Encoding \"{}\"'.format(query))\n",
    "\n",
    "result = encoder(query)\n",
    "\n",
    "plotting.view_img(result[\"brain_map\"], threshold=3.0).open_in_browser()\n",
    "\n",
    "print(\"Similar words:\")\n",
    "print(result[\"similar_words\"].head())\n",
    "print(\"\\nSimilar documents:\")\n",
    "print(result[\"similar_documents\"].head())\n",
    "\n",
    "print(\"\\nmodel saved in {}\".format(OUTPUT_DIRECTORY))\n",
    "\n",
    "# Display in notebook\n",
    "plotting.view_img(result[\"brain_map\"], threshold=3.0)"
   ]
  },
  {
   "cell_type": "code",
   "execution_count": 9,
   "metadata": {},
   "outputs": [],
   "source": [
    "from neuroquery import fetch_neuroquery_model\n",
    "\n",
    "nq_data = fetch_neuroquery_model()"
   ]
  },
  {
   "cell_type": "code",
   "execution_count": 10,
   "metadata": {},
   "outputs": [
    {
     "name": "stdout",
     "output_type": "stream",
     "text": [
      "neuroquery_data\\neuroquery_model\n"
     ]
    }
   ],
   "source": []
  },
  {
   "cell_type": "code",
   "execution_count": 11,
   "metadata": {},
   "outputs": [
    {
     "name": "stdout",
     "output_type": "stream",
     "text": [
      "Encoding \"autism spectrum disorder\"\n"
     ]
    }
   ],
   "source": []
  },
  {
   "cell_type": "code",
   "execution_count": null,
   "metadata": {},
   "outputs": [],
   "source": []
  }
 ],
 "metadata": {
  "kernelspec": {
   "display_name": "Python 3",
   "language": "python",
   "name": "python3"
  },
  "language_info": {
   "codemirror_mode": {
    "name": "ipython",
    "version": 3
   },
   "file_extension": ".py",
   "mimetype": "text/x-python",
   "name": "python",
   "nbconvert_exporter": "python",
   "pygments_lexer": "ipython3",
   "version": "3.8.3"
  }
 },
 "nbformat": 4,
 "nbformat_minor": 4
}
